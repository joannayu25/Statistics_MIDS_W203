{
 "cells": [
  {
   "cell_type": "markdown",
   "metadata": {},
   "source": [
    "<h1>Unit 14 Live Session </center> </h1>\n",
    "<h3> W203 Instructional Team </h3>"
   ]
  },
  {
   "cell_type": "markdown",
   "metadata": {},
   "source": [
    "<h2> Causality </h2>\n",
    "<center>![title](causality.jpg)</center>"
   ]
  },
  {
   "cell_type": "markdown",
   "metadata": {},
   "source": [
    "<h3> Class Announcements </h3>\n",
    "1. Congrats you are done!!!\n",
    "2. Preview of Causality"
   ]
  },
  {
   "cell_type": "markdown",
   "metadata": {},
   "source": [
    "<h3> 1 Potential Outcomes Framework </h3>\n",
    "\n",
    "Causal inference is concerned with what would happen to an outcome $Y$ as the result of a hypothesized \"treatment\" or intervention. In a regression framework, the treatment can be written as a variable D:\n",
    "\n",
    "$$\n",
    "D_i = \n",
    "\\begin{cases}\n",
    "    1 ,& \\text{if unit i receives the \"treatment\"}\\\\\n",
    "    0, & \\text{if unit i receives the \"control,\"}\n",
    "\\end{cases}\n",
    "$$ \n",
    "\n",
    "Furthermore we construct the potential outcomes frame work\n",
    "\n",
    "$$\n",
    "\\text{Potential Outcome} = \n",
    "\\begin{cases}\n",
    "    Y_{1i} ,& \\text{if } \\;\\; D_i = 1\\\\\n",
    "    Y_{0i}, & \\text{if } \\;\\;  D_i = 0\n",
    "\\end{cases}\n",
    "$$ \n",
    "\n",
    "Based on this framework what we would like to measure is the Average Treatment Effect (ATE) \n",
    "\n",
    "$$\n",
    "\\text{ Average Treatment Effect} = E[Y_{1i} - Y_{0i}]\n",
    "$$\n",
    "\n",
    "But this is something we cannot measure since we only observe one outcome for each unit, either $Y_{1i}$ the treated outcome or $Y_{0i}$ the untreated outcome."
   ]
  },
  {
   "cell_type": "markdown",
   "metadata": {},
   "source": [
    "<h3> 2 What You Can Measure </h3>\n",
    "\n",
    "What we can measure is the difference between average outcomes in treated and untreated groups.\n",
    "\n",
    "Recall from your reading, i.e. Angrist and Pischke \"Mastering Metrics\" Chapter 1 that in the investigation of the average treatment effect of insurance naturally begins by comparing the average health of groups of insured and uninsured people, Difference in group means = Treatment on the treated + Selection bias. \n",
    "\n",
    "$$\n",
    "\\begin{aligned}\n",
    "\\text{ What Can Be Measured} &= E[Y_i|D_i = 1] - E[Y_i|D_i = 0] \\\\[10pt]\n",
    "& = E[Y_{1i}| D_i = 1] - E[Y_{0i}|D_i = 0] \\\\[10pt]\n",
    "& = E[Y_{1i}| D_i = 1] - E[Y_{0i}|D_i = 1] + E[Y_{0i}|D_i = 1] - E[Y_{0i}|D_i = 0] \\\\[10pt]\n",
    "& = E[Y_{1i} - Y_{0i}| D_i = 1] + \\left(  E[Y_{0i}|D_i = 1] - E[Y_{0i}|D_i = 0] \\right) \\\\[10pt]\n",
    "& = \\text{Treatment on The Treated (TOT)} + \\text{Selection Bias} \n",
    "\\end{aligned}\n",
    "$$\n",
    "\n",
    "We got this by adding and subtracting the unobserved untreated outcome for the observations that get the treatment. If the treatment and control groups are fundamentally different their untreated outcome will be different hence selection bias will be non zero."
   ]
  },
  {
   "cell_type": "markdown",
   "metadata": {},
   "source": [
    "Lets simulate this by constructing a sample of treated and untreated outcomes who differ only in their mean untreated outcomes. i.e. Let $Y^{m}_{0i}$ and $Y^{w}_{0i}$ be the untreated potential outcomes for the ith man and woman respectively. Let\n",
    "\n",
    "$$ Y^{m}_{0i} \\sim N(2,1/4) \\;\\;\\;\\text{ and } \\;\\;\\; Y^{w}_{0i} \\sim N(1,1/4) $$\n",
    "\n",
    "As a result of having two groups with differing untreated potential outcomes, unless the proportion of men and women are the same in both treated $D=1$ and untreated $D=0$ groups selection bias will result.\n",
    "\n",
    "For example if, \n",
    "\n",
    "$$ p_0 = \\frac{\\# \\text{ of women in untreated group}}{\\# \\text{ of people in untreated group}} \\;\\;\\;\\;\\; \\text{ and } \\;\\;\\;\\;\\; p_1 =  \\frac{\\# \\text{ of women in treated group}}{\\# \\text{ of people in treated group}} $$\n",
    "\n",
    "Then \n",
    "\n",
    "$$\n",
    "E[Y_{0i}|D_i = 0] =  p_0 E[Y^w_{0i}] + (1-p_0)E[Y^m_{0i}]\n",
    "$$\n",
    "and \n",
    "$$\n",
    "E[Y_{0i}|D_i = 1] =  p_1 E[Y^w_{0i}] + (1-p_1)E[Y^m_{0i}]\n",
    "$$\n",
    "\n",
    "Now we can see that selection bias will only be zero if $p_0=p_1$ or if $E[Y^w_{0i}] = E[Y^m_{0i}]$ since,\n",
    "\n",
    "$$\n",
    "\\begin{aligned}\n",
    "E[Y_{0i}|D_i = 1] - E[Y_{0i}|D_i = 0] &= (p_1 - p_0) E[Y^w_{0i}] - (p_1 - p_0)E[Y^m_{0i}] \\\\[10pt]\n",
    "& = (p_1-p_0)(E[Y^w_{0i}] - E[Y^m_{0i}])\n",
    "\\end{aligned}$$ "
   ]
  },
  {
   "cell_type": "markdown",
   "metadata": {},
   "source": [
    "Furthermore let average treament effect for both men and women be the same\n",
    "\n",
    "$$ Y^{m}_{1i} - Y^{m}_{0i} \\sim  N(5,0.5) \\;\\;\\; \\text{ and } \\;\\;\\;  Y^{w}_{1i} - Y^{w}_{0i} \\sim  N(5,0.5)$$\n"
   ]
  },
  {
   "cell_type": "code",
   "execution_count": 25,
   "metadata": {},
   "outputs": [],
   "source": [
    "set.seed(123456)\n",
    "# Number of observations per group\n",
    "n <-50\n",
    "# Average Treament Effect\n",
    "ate <-5\n",
    "# Variance of treament Effect\n",
    "ate_var <-0.5\n",
    "# Mean untreated outcomes and variances\n",
    "m_mean_untreated <- 2\n",
    "w_mean_untreated <- 1\n",
    "# \n",
    "var_untreated <- 1/4"
   ]
  },
  {
   "cell_type": "markdown",
   "metadata": {},
   "source": [
    "Here we generate the full data set, with all treated and untreated potential outcomes"
   ]
  },
  {
   "cell_type": "code",
   "execution_count": 26,
   "metadata": {},
   "outputs": [],
   "source": [
    "# Generating the data for women\n",
    "w_untreated <- rnorm(n,w_mean_untreated,var_untreated)\n",
    "w_treatment_effect <-rnorm(n,ate,ate_var)\n",
    "w_treated <- w_untreated + w_treatment_effect\n",
    "\n",
    "# Generating the data for men\n",
    "m_untreated <- rnorm(n,m_mean_untreated,var_untreated)\n",
    "m_treatment_effect <- rnorm(n,ate,ate_var)\n",
    "m_treated <- m_untreated + m_treatment_effect"
   ]
  },
  {
   "cell_type": "markdown",
   "metadata": {},
   "source": [
    "Here are the characteristics of the sample"
   ]
  },
  {
   "cell_type": "code",
   "execution_count": 27,
   "metadata": {},
   "outputs": [
    {
     "data": {
      "text/html": [
       "<span style=white-space:pre-wrap>'Sample ATE for W:  4.95813852027497'</span>"
      ],
      "text/latex": [
       "'Sample ATE for W:  4.95813852027497'"
      ],
      "text/markdown": [
       "<span style=white-space:pre-wrap>'Sample ATE for W:  4.95813852027497'</span>"
      ],
      "text/plain": [
       "[1] \"Sample ATE for W:  4.95813852027497\""
      ]
     },
     "metadata": {},
     "output_type": "display_data"
    },
    {
     "data": {
      "text/html": [
       "<span style=white-space:pre-wrap>'Sample ATE for M:  5.00046784473964'</span>"
      ],
      "text/latex": [
       "'Sample ATE for M:  5.00046784473964'"
      ],
      "text/markdown": [
       "<span style=white-space:pre-wrap>'Sample ATE for M:  5.00046784473964'</span>"
      ],
      "text/plain": [
       "[1] \"Sample ATE for M:  5.00046784473964\""
      ]
     },
     "metadata": {},
     "output_type": "display_data"
    }
   ],
   "source": [
    "paste('Sample ATE for W: ',mean(w_treated-w_untreated))\n",
    "paste('Sample ATE for M: ',mean(m_treated-m_untreated))\n",
    "#paste('Full Sample ATE: ', mean(c(sample_w_ate,sample_m_ate)))"
   ]
  },
  {
   "cell_type": "markdown",
   "metadata": {},
   "source": [
    "Now we construct a function to create sample with selection bias, and calculate the sample ATE where \n",
    "\n",
    "* $n$ is the number of observations per group\n",
    "* $p$ is the proportion of women to men in the treated group. "
   ]
  },
  {
   "cell_type": "code",
   "execution_count": 28,
   "metadata": {},
   "outputs": [],
   "source": [
    "my_ate <- function(p,n,w_treated,w_untreated,m_treated,m_untreated){\n",
    "    # Number of treated women\n",
    "    num_w <- floor(p*n)\n",
    "    # Number of treated men\n",
    "    num_m <- ceiling((1-p)*n)\n",
    "    # Index of treated observations\n",
    "    w_treated_index <- sample(1:n,num_w,replace=F)\n",
    "    m_treated_index <- sample(1:n,num_m,replace=F)\n",
    "    # Index of untreated observations\n",
    "    w_untreated_index <- setdiff(1:n,w_treated_index)\n",
    "    m_untreated_index <- setdiff(1:n,m_treated_index)\n",
    "    # Treated observations\n",
    "    w_treated_obs <- w_treated[w_treated_index]\n",
    "    m_treated_obs <-m_treated[m_treated_index] \n",
    "    # Untreated observations\n",
    "    w_untreated_obs <- w_untreated[w_untreated_index]\n",
    "    m_untreated_obs <- m_untreated[m_untreated_index] \n",
    "    # Combining\n",
    "    treated_obs<- c(w_treated_obs,m_treated_obs)\n",
    "    untreated_obs<- c(w_untreated_obs,m_untreated_obs)\n",
    "    # Calculating the sample ATE\n",
    "    p_sample_ate <- mean(treated_obs) - mean(untreated_obs)\n",
    "    return(p_sample_ate)\n",
    "    }"
   ]
  },
  {
   "cell_type": "markdown",
   "metadata": {},
   "source": [
    "Now we sample this function for values of p between 0.01 and 1, note a p increases women should go from under represented to over represented in the sample thus reducing the selection bias \n",
    "$$ \\text{Selection Bias} = (p_1-p_0)(E[Y^w_{0i}] - E[Y^m_{0i}]) $$\n",
    "\n",
    "from 1 to negative 1. "
   ]
  },
  {
   "cell_type": "code",
   "execution_count": 29,
   "metadata": {},
   "outputs": [
    {
     "data": {
      "image/png": "[encoded data removed]",
      "text/plain": [
       "plot without title"
      ]
     },
     "metadata": {},
     "output_type": "display_data"
    }
   ],
   "source": [
    "# Initializing the calculated ate vector\n",
    "ate_data=c()\n",
    "# Calculating the sample ate for p=0.01 to p=1.00\n",
    "for ( i in 1:100){\n",
    "    ate_data[i] <- my_ate(i/100,n,w_treated,w_untreated,m_treated,m_untreated)\n",
    "    }\n",
    "plot(1:100,ate_data,ylab = \"Sample ATE\",xlab=\"Proportions of Men and Women in Treated Group\")"
   ]
  },
  {
   "cell_type": "markdown",
   "metadata": {},
   "source": [
    "<h3> 3 Random Assignment to Treatment </h3>\n",
    "\n",
    "Experimental random treament assignment is one method of eliminating selection bias. The logistics of a randomized experiment, sometimes called a randomized trial, may seem simple, but using it effectively can be a complex process. In a randomized experiment, participants in various groups should not differ in any systematic way. In a clinical trial, if treatment groups are systematically different, trial results will be biased. \n",
    "\n",
    "<!--More generally, causal inference can be viewed as a special case of prediction in which the goal is to predict what would have happened under different treatment options.-->"
   ]
  },
  {
   "cell_type": "markdown",
   "metadata": {},
   "source": [
    "<h4> 3.1 Effect on Selection Bias </h4>\n",
    "\n",
    "With true randomization of treatment assignment, all participants in the study are given the same opportunity to be allocated or assigned to each of the study groups. Supposing that all those who are assigned treatment are treated, and all who are assigned to the control group are untreated then there is no difference in the two groups thus,\n",
    "\n",
    "$$ \n",
    "\\text{Selection Bias} = E[Y_{0i}|D_i=1] - E[Y_{0i}|D_i=0] = E[Y_{0i}] - E[Y_{0i}] = 0\n",
    "$$\n",
    "\n",
    "So under this restriction we have solved that problem."
   ]
  },
  {
   "cell_type": "code",
   "execution_count": 30,
   "metadata": {},
   "outputs": [
    {
     "data": {
      "text/html": [
       "5.00007822071759"
      ],
      "text/latex": [
       "5.00007822071759"
      ],
      "text/markdown": [
       "5.00007822071759"
      ],
      "text/plain": [
       "[1] 5.000078"
      ]
     },
     "metadata": {},
     "output_type": "display_data"
    }
   ],
   "source": [
    "my_ate(0.5,n,w_treated,w_untreated,m_treated,m_untreated)"
   ]
  },
  {
   "cell_type": "markdown",
   "metadata": {},
   "source": [
    "but even a perfectly randomized method to assign participants to treatment groups does not protect against selection bias. "
   ]
  },
  {
   "cell_type": "markdown",
   "metadata": {},
   "source": [
    "<h3> 4 Are the Participants Representative? </h3>\n",
    "\n",
    "Another type of selection bias can arise when participants can select themselves in or out of study based on whether the receive the treament or not.  \n",
    "\n",
    "<ul>\n",
    "<li> People who know that the treatment will have a large effect on them will be more likely to sign up. \n",
    "    <br><br>\n",
    "<li> People who aren't assigned the treatement will drop out of the study. \n",
    "</ul>\n",
    "\n",
    "Conditioning an estimate of association on participation can induce an association between exposure and disease, when no association exists among all those eligible to participate. Researchers can adjust estimates of association measured among participants to account for the bias introduced by conditioning on participation, when participation is affected by both exposure and disease. \n",
    "\n",
    "This adjustment is often difficult since it ideally requires an assessment of the participation proportion among each of the four combinations of exposed (when exposure is dichotomous) and diseased. Often the exposure status and disease status of the nonparticipants will be unknown - their participation is required to ascertain this information. \n"
   ]
  },
  {
   "cell_type": "markdown",
   "metadata": {},
   "source": [
    "<h3> 5 Confounding or How People Really are the Worst </h3>\n",
    "\n",
    "\n",
    "\n",
    "Furthermore another level of selection bias can occur when participants in the study can select themselves in and out of treatment groups based on their assignment. i.e. Treatment Assignement $\\neq$ Treatment Received (Confounding) \n",
    "\n",
    "<ul>\n",
    "  <li> People always want the treament they are not assigned (Defiers)\n",
    "      <br><br>\n",
    "  <li> People refuse to get the treatement if assigned but will take the treatment because they know that the control will be more beneficial to them. (Never Takers)\n",
    "      <br><br>\n",
    "  <li> People will stop at nothing to get the treatement because they know that the control won't be more beneficial to them. (Always Takers)\n",
    "</ul>\n",
    "\n",
    "Selection bias occurs when the two variables whose association is under study, usually an exposure/treament assignment and a disease outcome, both affect treatment received.\n",
    "\n",
    "However if all goes right and participation in the study and assignment/receipt of treatment all go according to plan one can argue that both potential out comes ${Y_{0i},Y_{1i}}$ are independent of treamtent assignment which gives us. \n",
    "\n",
    "$$ \n",
    "\\begin{aligned}\n",
    " \\text{What We Can Measure} & = E[Y_i|D_i = 1] - E[Y_i|D_i = 0]  \\\\[10pt]\n",
    " &=  E[Y_{1i} - Y_{0i}| D_i = 1] + E[Y_{0i}|D_i = 1] - E[Y_{0i}|D_i = 0] \\\\[10pt]\n",
    " & =  E[Y_{1i} - Y_{0i}] + E[Y_{0i}] - E[Y_{0i}] \\\\[10pt]\n",
    " & =  E[Y_{1i} - Y_{0i}]\\\\[10pt]\n",
    " & = \\text{Average Treatment Effect (ATE)}\n",
    " \\end{aligned}\n",
    "$$ "
   ]
  },
  {
   "cell_type": "markdown",
   "metadata": {},
   "source": [
    "<h3> 6 Case-Control Studies because Experiments are Expensive or Infeasible </h3>\n",
    "\n",
    "Randomized control trial are expensive and often infeasible so researchers to resort observational data to infer a causal relationship. One such framework is the case control study.  \n",
    "\n",
    "Case-control studies start with the identification of a group of cases (individuals with a particular health outcome) in a given population and a group of controls (individuals without the health outcome who resemble the cases in some way) to be included in the study. A case-control study involves the identification of individuals with ('cases') and without ('controls') a particular disease or condition. The prevalence (or level) of exposure to a factor is then measured in each group. If the prevalence of exposure among cases and controls is different, it is possible to infer that the exposure may be associated with an increased or decreased occurrence of the outcome of interest.\n",
    "\n",
    "For example suppose that we are interested in the effect of a particular drinking water contaminent Soylent Green on mercury levels in the blood. The treated group is a small town Bunkerville, whose entire population, by accident, was exposed to higher levels Soylent Green, this will be our treated group. What we will then do is try to find participants from the nearby town Darden whose water was uncontaminated but otherwise has very similar charactersitics to Bunkerville. We will attempt to recruit people from both towns to come in a get a blood test so that we can compare mercury levels between groups. \n",
    "\n",
    "If the participation rates of those who live in Darden are different from those who live in Bunkerville a selection bias may result. Meaning that even though on average the two towns are the same but the groups who choose to participate may be fundamentally different.\n",
    "\n",
    "In a case-control study, researchers typically know the proportion of cases and controls who agree to participate and the exposure prevalence of participating cases and controls is known from the data gathered on participants, but the exposure prevalence of cases and controls who did\n",
    "not participate is unknown.\n",
    "\n",
    "In practice, controls must fulfill all the eligibility criteria defined for the cases apart from those relating to diagnosis of the disease. In case-control studies, controls should represent the population from which the cases are drawn, i.e., they should provide an estimate of the exposure prevalence in the population from which the cases arise. If not, the results of the study are likely to be distorted because of selection bias.\n"
   ]
  },
  {
   "cell_type": "code",
   "execution_count": null,
   "metadata": {},
   "outputs": [],
   "source": []
  }
 ],
 "metadata": {
  "kernelspec": {
   "display_name": "R",
   "language": "R",
   "name": "ir"
  },
  "language_info": {
   "codemirror_mode": "r",
   "file_extension": ".r",
   "mimetype": "text/x-r-source",
   "name": "R",
   "pygments_lexer": "r",
   "version": "3.4.3"
  }
 },
 "nbformat": 4,
 "nbformat_minor": 2
}
